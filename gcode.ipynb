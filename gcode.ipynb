{
 "cells": [
  {
   "cell_type": "code",
   "execution_count": 10,
   "metadata": {},
   "outputs": [
    {
     "name": "stdout",
     "output_type": "stream",
     "text": [
      "B2D or D2B: b2d\n",
      "Enter number in Binary Format: 10011\n",
      "10011 in Decimal = 19\n"
     ]
    }
   ],
   "source": [
    "\"\"\"\n",
    "Q: Binary to Decimal and Back Converter - Develop a converter to convert a decimal number to binary\n",
    "   or a binary number to its decimal equivalent. \n",
    "\"\"\"\n",
    "\n",
    "# Python Program to Convert Binary to Decimal\n",
    "ask = input('B2D or D2B: ')   #B2B - binary to decimal\n",
    "if ask.upper() == 'B2D':\n",
    "    \n",
    "    binary = input(\"Enter number in Binary Format: \")\n",
    "    decimal = int(binary, 2)\n",
    "    print(binary,\"in Decimal =\",decimal)\n",
    "\n",
    "else:\n",
    "    def convertToBinary(n):\n",
    "       # Function to print binary number for the input decimal using recursion\n",
    "       if n > 1:\n",
    "            convertToBinary(n//2)\n",
    "            print(n % 2,end = '')\n",
    "\n",
    "    \n",
    "    n = int(input('Enter decimal no.: '))\n",
    "\n",
    "    convertToBinary(n)"
   ]
  },
  {
   "cell_type": "code",
   "execution_count": null,
   "metadata": {},
   "outputs": [],
   "source": []
  }
 ],
 "metadata": {
  "kernelspec": {
   "display_name": "Python 3",
   "language": "python",
   "name": "python3"
  },
  "language_info": {
   "codemirror_mode": {
    "name": "ipython",
    "version": 3
   },
   "file_extension": ".py",
   "mimetype": "text/x-python",
   "name": "python",
   "nbconvert_exporter": "python",
   "pygments_lexer": "ipython3",
   "version": "3.6.6"
  }
 },
 "nbformat": 4,
 "nbformat_minor": 2
}
